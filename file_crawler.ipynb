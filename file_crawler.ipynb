{
 "cells": [
  {
   "cell_type": "code",
   "execution_count": 2,
   "metadata": {},
   "outputs": [
    {
     "name": "stdout",
     "output_type": "stream",
     "text": [
      "Dane zostały zapisane do pliku D:\\Master\\Repo\\Magtest\\result.txt\n"
     ]
    }
   ],
   "source": [
    "import os\n",
    "\n",
    "def read_files_in_directory(directory):\n",
    "    result = []\n",
    "    # Przechodzenie przez wszystkie pliki i foldery w podanej ścieżce\n",
    "    for root, dirs, files in os.walk(directory):\n",
    "        for file in files:\n",
    "            # Sprawdzanie rozszerzenia pliku\n",
    "            if file.endswith(\".py\"):\n",
    "                file_path = os.path.join(root, file)\n",
    "                try:\n",
    "                    # Otwieranie pliku i pobieranie jego zawartości\n",
    "                    with open(file_path, 'r', encoding='utf-8') as f:\n",
    "                        content = f.read()\n",
    "                        # Zapisanie nazwy pliku i jego zawartości\n",
    "                        result.append(f\"### {file}\\n{content}\\n\")\n",
    "                except Exception as e:\n",
    "                    print(f\"Nie udało się odczytać pliku: {file_path}, błąd: {e}\")\n",
    "    return result\n",
    "\n",
    "def save_to_text_file(directory, data):\n",
    "    # Ścieżka do zapisu pliku tekstowego obok podanego folderu\n",
    "    output_path = os.path.join(os.path.dirname(directory), 'result.txt')\n",
    "    # Zapisywanie danych do pliku tekstowego\n",
    "    with open(output_path, 'w', encoding='utf-8') as text_file:\n",
    "        text_file.writelines(data)\n",
    "    print(f\"Dane zostały zapisane do pliku {output_path}\")\n",
    "\n",
    "def main(directory):\n",
    "    # Odczytanie wszystkich plików z podanego folderu\n",
    "    files_data = read_files_in_directory(directory)\n",
    "    # Zapisanie wyniku do pliku tekstowego\n",
    "    save_to_text_file(directory, files_data)\n",
    "\n",
    "# Przykład użycia:\n",
    "folder_path = 'D:\\\\Master\\\\Repo\\\\Magtest\\\\src'  # <-- tutaj podaj ścieżkę do folderu\n",
    "main(folder_path)\n"
   ]
  }
 ],
 "metadata": {
  "kernelspec": {
   "display_name": ".venv",
   "language": "python",
   "name": "python3"
  },
  "language_info": {
   "codemirror_mode": {
    "name": "ipython",
    "version": 3
   },
   "file_extension": ".py",
   "mimetype": "text/x-python",
   "name": "python",
   "nbconvert_exporter": "python",
   "pygments_lexer": "ipython3",
   "version": "3.12.5"
  }
 },
 "nbformat": 4,
 "nbformat_minor": 2
}
