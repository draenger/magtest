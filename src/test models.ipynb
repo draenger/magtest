{
 "cells": [
  {
   "cell_type": "code",
   "execution_count": 1,
   "metadata": {},
   "outputs": [
    {
     "name": "stdout",
     "output_type": "stream",
     "text": [
      "The\n"
     ]
    }
   ],
   "source": [
    "import sys\n",
    "import os\n",
    "import tiktoken\n",
    "from ai_models.anthropic_model import AnthropicModel\n",
    "\n",
    "tokenizer = tiktoken.get_encoding(\"cl100k_base\")\n",
    "\n",
    "# (\"claude-3-haiku-20240307\", 0.25, 1.25, rpm_limit, 50_000, 5_000_000),\n",
    "model = AnthropicModel(\"claude-3-haiku-20240307\", rpm_limit=50, tpm_limit=50_000, tpd_limit=5_000_000, tokenizer=tokenizer, input_cost_per_million=0.25, output_cost_per_million=1.25)\n",
    "\n",
    "response = model.predict(\"What is the capital of Poland?\")\n",
    "print(response)\n"
   ]
  }
 ],
 "metadata": {
  "kernelspec": {
   "display_name": "Python 3",
   "language": "python",
   "name": "python3"
  },
  "language_info": {
   "codemirror_mode": {
    "name": "ipython",
    "version": 3
   },
   "file_extension": ".py",
   "mimetype": "text/x-python",
   "name": "python",
   "nbconvert_exporter": "python",
   "pygments_lexer": "ipython3",
   "version": "3.12.5"
  }
 },
 "nbformat": 4,
 "nbformat_minor": 2
}
