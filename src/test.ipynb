{
 "cells": [
  {
   "cell_type": "code",
   "execution_count": 1,
   "metadata": {},
   "outputs": [
    {
     "name": "stdout",
     "output_type": "stream",
     "text": [
      "Running benchmarks...\n",
      "\n",
      "=========================================\n",
      "Running mmul benchmark for all models...\n",
      "Data file already exists. Skipping download.\n",
      "Data directory already exists. Skipping extraction.\n",
      "Combined data shape: (13985, 7)\n",
      "Filtered Combined data shape: (1, 7)\n",
      "\n",
      "Error adding ModelResult: (sqlite3.IntegrityError) NOT NULL constraint failed: model_results.response\n",
      "[SQL: INSERT INTO model_results (model_name, benchmark_name, \"query\", response, tokens_used, execution_time, score, timestamp) VALUES (?, ?, ?, ?, ?, ?, ?, ?)]\n",
      "[parameters: ('gpt-3.5-turbo', 'MMLU', 'Question: Let p = (1, 2, 5, 4)(2, 3) in S_5 . Find the index of <p> in S_5.\\nOptions: A. 8, B. 2, C. 24, D. 120\\nAnswer with just the letter of the correct option (A, B, C, or D).', None, 103, 0.8923825999954715, 0.0, '2024-08-17 22:15:02.797096')]\n",
      "(Background on this error at: https://sqlalche.me/e/20/gkpj)\n",
      "Model: gpt3 score: 0.0\n",
      "Model: test score: 0.0\n",
      "\n",
      "Finished mmul benchmark for all models\n",
      "=========================================\n",
      "\n",
      "All benchmarks completed.\n",
      "{'mmul': {'gpt3': 0.0, 'test': 0.0}}\n"
     ]
    }
   ],
   "source": [
    "import sys\n",
    "import os\n",
    "from data import Database, ModelResultRepository, ModelResult\n",
    "from benchmarks.mmul import MMULDataLoader, MMULBenchmark\n",
    "from benchmarks import BenchmarkFactory, BenchmarkRunner\n",
    "from models import ModelFactory, OpenAIModel, TestModel\n",
    "\n",
    "# Settings\n",
    "max_tests_per_benchmark = 1\n",
    "\n",
    "# Inicjalizacja bazy danych\n",
    "db = Database()\n",
    "db.create_all_tables()\n",
    "model_result_repo = ModelResultRepository(db)\n",
    "\n",
    "# Inicjalizacja fabryk\n",
    "model_factory = ModelFactory()\n",
    "benchmark_factory = BenchmarkFactory()\n",
    "\n",
    "# Rejestracja modeli\n",
    "model_factory.register_model(\"gpt3\", OpenAIModel, \"gpt-3.5-turbo\")\n",
    "model_factory.register_model(\"test\", TestModel)\n",
    "\n",
    "# Rejestracja benchmarków\n",
    "benchmark_factory.register_benchmark(\"MMUL\", MMULBenchmark, model_result_repo, data_set_dir=\"test\", max_tests_per_benchmark=max_tests_per_benchmark)\n",
    "\n",
    "# Utworzenie i uruchomienie runnera\n",
    "runner = BenchmarkRunner(model_factory, benchmark_factory)\n",
    "runner.run_benchmarks() "
   ]
  }
 ],
 "metadata": {
  "kernelspec": {
   "display_name": "Python 3",
   "language": "python",
   "name": "python3"
  },
  "language_info": {
   "codemirror_mode": {
    "name": "ipython",
    "version": 3
   },
   "file_extension": ".py",
   "mimetype": "text/x-python",
   "name": "python",
   "nbconvert_exporter": "python",
   "pygments_lexer": "ipython3",
   "version": "3.12.5"
  }
 },
 "nbformat": 4,
 "nbformat_minor": 2
}
