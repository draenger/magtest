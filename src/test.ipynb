{
 "cells": [
  {
   "cell_type": "code",
   "execution_count": 1,
   "metadata": {},
   "outputs": [
    {
     "name": "stdout",
     "output_type": "stream",
     "text": [
      "Filtered test data shape: (57, 9)\n",
      "Przygotowuję 57 testów dla benchmarka MMUL-0Shot, sesji Session7, 0-shot\n",
      "Zakończono przygotowywanie 57 testów dla benchmarka MMUL-0Shot\n",
      "Filtered test data shape: (57, 9)\n",
      "Przygotowuję 57 testów dla benchmarka MMUL-5Shot, sesji Session7, 5-shot\n",
      "Zakończono przygotowywanie 57 testów dla benchmarka MMUL-5Shot\n",
      "     Benchmark                Model                 Queries            Avg Score       Total Execution Time      Est Tokens           Act Tokens            Est Cost             Act Cost      \n",
      "     MMUL-0Shot      test-gpt-3.5-turbo-0125          57                  None                 None                 6779                 NaN                 0.0034                NaN         \n",
      "     MMUL-0Shot                   test-gpt-4          57                  None                 None                 6779                 NaN                 0.2051                NaN         \n",
      "     MMUL-0Shot             test-gpt-4-turbo          57                  None                 None                 6779                 NaN                 0.0689                NaN         \n",
      "     MMUL-0Shot                  test-gpt-4o          57                  None                 None                 6779                 NaN                 0.0345                NaN         \n",
      "     MMUL-0Shot             test-gpt-4o-mini          57                  None                 None                 6779                 NaN                 0.0010                NaN         \n",
      "     MMUL-5Shot      test-gpt-3.5-turbo-0125          57                  None                 None                35756                 NaN                 0.0179                NaN         \n",
      "     MMUL-5Shot                   test-gpt-4          57                  None                 None                35756                 NaN                 1.0744                NaN         \n",
      "     MMUL-5Shot             test-gpt-4-turbo          57                  None                 None                35756                 NaN                 0.3587                NaN         \n",
      "     MMUL-5Shot                  test-gpt-4o          57                  None                 None                35756                 NaN                 0.1794                NaN         \n",
      "     MMUL-5Shot             test-gpt-4o-mini          57                  None                 None                35756                 NaN                 0.0054                NaN         \n"
     ]
    }
   ],
   "source": [
    "import sys\n",
    "import os\n",
    "from data import Database\n",
    "from data.repositories import PreparedQuestionRepository, ModelResultRepository, MMULQuestionRepository\n",
    "from benchmarks import BenchmarkRunner, BenchmarkRegistry, BenchmarkSummary\n",
    "from ai_models import ModelFactory, ModelsRegistry\n",
    "\n",
    "# Initialize database\n",
    "db = Database()\n",
    "db.create_all_tables()\n",
    "mmul_question_repository = MMULQuestionRepository(db)\n",
    "prepared_question_repo = PreparedQuestionRepository(db)\n",
    "model_result_repo = ModelResultRepository(db)\n",
    "benchmark_summary_repo = BenchmarkSummary(db)\n",
    "\n",
    "test_session_id = \"Session7\"\n",
    "\n",
    "# Register models\n",
    "models_registry = ModelsRegistry()\n",
    "models_registry.register_test_openai_models()\n",
    "#models_registry.register_openai_models()\n",
    "\n",
    "# Register benchmarks\n",
    "benchmark_registry = BenchmarkRegistry(\n",
    "    mmul_question_repository,\n",
    "    prepared_question_repo, \n",
    "    model_result_repo, \n",
    "    test_session_id = test_session_id, \n",
    "    max_tests_per_benchmark = 1)\n",
    "\n",
    "benchmark_registry.register_mmul_benchmarks()\n",
    "\n",
    "# Create and run the benchmark runner\n",
    "runner = BenchmarkRunner(models_registry, benchmark_registry)\n",
    "runner.estimate_model_results()\n",
    "\n",
    "# summary = benchmark_summary_repo.get_detailed_summary(test_session_id)\n",
    "# print(summary.to_string(index=False, justify='center', col_space=20, float_format=lambda x: f'{x:.4f}'))\n",
    "# print(\"\\n\\n\\n\")\n",
    "summary = benchmark_summary_repo.get_benchmark_summary(test_session_id)\n",
    "print(summary.to_string(index=False, justify='center', col_space=20, float_format=lambda x: f'{x:.4f}'))"
   ]
  },
  {
   "cell_type": "code",
   "execution_count": 2,
   "metadata": {},
   "outputs": [
    {
     "name": "stdout",
     "output_type": "stream",
     "text": [
      "Dane już istnieją dla benchmarka MMUL-0Shot i sesji Session7\n",
      "Dane już istnieją dla benchmarka MMUL-5Shot i sesji Session7\n",
      "     Benchmark                Model                 Queries             Avg Score       Total Execution Time      Est Tokens           Act Tokens            Est Cost             Act Cost      \n",
      "     MMUL-0Shot      test-gpt-3.5-turbo-0125          57                 0.2632                0.0001                6779                 6779                0.0034               0.0034       \n",
      "     MMUL-0Shot                   test-gpt-4          57                 0.2982                0.0001                6779                 6779                0.2051               0.2051       \n",
      "     MMUL-0Shot             test-gpt-4-turbo          57                 0.1754                0.0001                6779                 6779                0.0689               0.0689       \n",
      "     MMUL-0Shot                  test-gpt-4o          57                 0.1579                0.0001                6779                 6779                0.0345               0.0345       \n",
      "     MMUL-0Shot             test-gpt-4o-mini          57                 0.2105                0.0001                6779                 6779                0.0010               0.0010       \n",
      "     MMUL-5Shot      test-gpt-3.5-turbo-0125          57                 0.2807                0.0005               35756                35756                0.0179               0.0179       \n",
      "     MMUL-5Shot                   test-gpt-4          57                 0.2281                0.0005               35756                35756                1.0744               1.0744       \n",
      "     MMUL-5Shot             test-gpt-4-turbo          57                 0.3509                0.0005               35756                35756                0.3587               0.3587       \n",
      "     MMUL-5Shot                  test-gpt-4o          57                 0.1754                0.0005               35756                35756                0.1794               0.1794       \n",
      "     MMUL-5Shot             test-gpt-4o-mini          57                 0.2105                0.0005               35756                35756                0.0054               0.0054       \n"
     ]
    }
   ],
   "source": [
    "runner.run_benchmarks()\n",
    "\n",
    "# summary = benchmark_summary_repo.get_detailed_summary(test_session_id)\n",
    "# print(summary.to_string(index=False, justify='center', col_space=20, float_format=lambda x: f'{x:.4f}'))\n",
    "# print(\"\\n\\n\\n\")\n",
    "summary = benchmark_summary_repo.get_benchmark_summary(test_session_id)\n",
    "print(summary.to_string(index=False, justify='center', col_space=20, float_format=lambda x: f'{x:.4f}'))"
   ]
  }
 ],
 "metadata": {
  "kernelspec": {
   "display_name": "Python 3",
   "language": "python",
   "name": "python3"
  },
  "language_info": {
   "codemirror_mode": {
    "name": "ipython",
    "version": 3
   },
   "file_extension": ".py",
   "mimetype": "text/x-python",
   "name": "python",
   "nbconvert_exporter": "python",
   "pygments_lexer": "ipython3",
   "version": "3.12.5"
  }
 },
 "nbformat": 4,
 "nbformat_minor": 2
}
