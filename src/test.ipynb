{
 "cells": [
  {
   "cell_type": "code",
   "execution_count": null,
   "metadata": {},
   "outputs": [],
   "source": [
    "# Generate test session id based on current time year, month, day, hour, minute, second yyyymmddhhmmss\n",
    "import datetime\n",
    "test_session_id = datetime.datetime.now().strftime(\"%Y%m%d%H%M%S\")\n",
    "print(f\"Test session id: {test_session_id}\")"
   ]
  },
  {
   "cell_type": "code",
   "execution_count": null,
   "metadata": {},
   "outputs": [],
   "source": [
    "from data import Database\n",
    "from data.repositories import (\n",
    "    PreparedQuestionRepository,\n",
    "    ModelResultRepository,\n",
    "    MMLUQuestionRepository,\n",
    "    BatchJobRepository\n",
    ")\n",
    "from benchmarks import BenchmarkRunner, BenchmarkRegistry\n",
    "from benchmarks.benchmark_summary import BenchmarkSummary\n",
    "from ai_models import ModelRegistry, BatchProgressManager\n",
    "\n",
    "# Initialize database\n",
    "db = Database()\n",
    "db.create_all_tables()\n",
    "mmul_question_repository = MMLUQuestionRepository(db)\n",
    "prepared_question_repo = PreparedQuestionRepository(db)\n",
    "model_result_repo = ModelResultRepository(db)\n",
    "batch_job_repo = BatchJobRepository(db)\n",
    "benchmark_summary = BenchmarkSummary(db)\n",
    "batch_manager = BatchProgressManager(batch_job_repo)\n",
    "\n",
    "test_session_id = 20241105180815\n",
    "# model_name_list = [] # all models\n",
    "# model_name_list = [\"gpt-4o-mini\"] # only gpt-4o-mini\n",
    "# model_name_list = [\"gpt-4o-mini\", \"claude-3-haiku-20240307\"]\n",
    "model_name_list = [\"gemini-1.5-flash-002\"]  # only gemini-1.5-flash\n",
    "\n",
    "# Register models\n",
    "model_registry = ModelRegistry(model_name_list)\n",
    "model_registry.register_production_models()\n",
    "model_registry.print_loaded_models()\n",
    "\n",
    "# Register benchmarks\n",
    "benchmark_registry = BenchmarkRegistry(\n",
    "    mmul_question_repository,\n",
    "    prepared_question_repo, \n",
    "    model_result_repo, \n",
    "    batch_job_repo,\n",
    "    test_session_id = test_session_id, \n",
    "    max_tests_per_benchmark = 10)\n",
    "\n",
    "benchmark_registry.register_mmul_benchmarks()"
   ]
  },
  {
   "cell_type": "code",
   "execution_count": null,
   "metadata": {},
   "outputs": [],
   "source": [
    "# Create and run the benchmark runner\n",
    "runner = BenchmarkRunner(model_registry, benchmark_registry)\n",
    "runner.estimate_model_results()\n",
    "\n",
    "# benchmark_summary.print_full_summary(test_session_id)\n",
    "benchmark_summary.print_benchmark_summary(test_session_id)"
   ]
  },
  {
   "cell_type": "code",
   "execution_count": null,
   "metadata": {},
   "outputs": [],
   "source": [
    "runner.run_benchmarks(in_batch=True)"
   ]
  },
  {
   "cell_type": "code",
   "execution_count": 5,
   "metadata": {},
   "outputs": [],
   "source": [
    "#batch_manager.show_batch_progress_from_db(test_session_id)"
   ]
  },
  {
   "cell_type": "code",
   "execution_count": null,
   "metadata": {},
   "outputs": [],
   "source": [
    "runner.check_and_process_batch_results()\n",
    "# benchmark_summary.print_full_summary(test_session_id)\n",
    "print(\"\\n\")\n",
    "benchmark_summary.print_benchmark_summary(test_session_id)"
   ]
  }
 ],
 "metadata": {
  "kernelspec": {
   "display_name": "Python 3",
   "language": "python",
   "name": "python3"
  },
  "language_info": {
   "codemirror_mode": {
    "name": "ipython",
    "version": 3
   },
   "file_extension": ".py",
   "mimetype": "text/x-python",
   "name": "python",
   "nbconvert_exporter": "python",
   "pygments_lexer": "ipython3",
   "version": "3.12.5"
  }
 },
 "nbformat": 4,
 "nbformat_minor": 2
}
