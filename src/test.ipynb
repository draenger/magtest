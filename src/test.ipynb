{
 "cells": [
  {
   "cell_type": "code",
   "execution_count": 1,
   "metadata": {},
   "outputs": [
    {
     "name": "stdout",
     "output_type": "stream",
     "text": [
      "Filtered test data shape: (57, 9)\n",
      "Filtered test data shape: (57, 9)\n"
     ]
    }
   ],
   "source": [
    "import sys\n",
    "import os\n",
    "from data import Database\n",
    "from data.repositories import PreparedQuestionRepository, ModelResultRepository, MMULQuestionRepository\n",
    "from benchmarks import BenchmarkRunner, BenchmarkRegistry\n",
    "from ai_models import ModelFactory, ModelsRegistry\n",
    "\n",
    "# Initialize database\n",
    "db = Database()\n",
    "db.create_all_tables()\n",
    "mmul_question_repository = MMULQuestionRepository(db)\n",
    "prepared_question_repo = PreparedQuestionRepository(db)\n",
    "model_result_repo = ModelResultRepository(db)\n",
    "\n",
    "\n",
    "# Register models\n",
    "models_registry = ModelsRegistry()\n",
    "models_registry.register_test_model()\n",
    "#models_registry.register_openai_models()\n",
    "\n",
    "# Register benchmarks\n",
    "benchmark_registry = BenchmarkRegistry(\n",
    "    mmul_question_repository,\n",
    "    prepared_question_repo, \n",
    "    model_result_repo, \n",
    "    test_session_id = \"Session1\", \n",
    "    max_tests_per_benchmark = 1)\n",
    "\n",
    "benchmark_registry.register_mmul_benchmarks()\n",
    "\n",
    "# Create and run the benchmark runner\n",
    "runner = BenchmarkRunner(models_registry, benchmark_registry)\n",
    "runner.estimate_model_results()\n",
    "runner.run_benchmarks()\n"
   ]
  }
 ],
 "metadata": {
  "kernelspec": {
   "display_name": "Python 3",
   "language": "python",
   "name": "python3"
  },
  "language_info": {
   "codemirror_mode": {
    "name": "ipython",
    "version": 3
   },
   "file_extension": ".py",
   "mimetype": "text/x-python",
   "name": "python",
   "nbconvert_exporter": "python",
   "pygments_lexer": "ipython3",
   "version": "3.12.5"
  }
 },
 "nbformat": 4,
 "nbformat_minor": 2
}
