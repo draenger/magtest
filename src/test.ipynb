{
 "cells": [
  {
   "cell_type": "code",
   "execution_count": 1,
   "metadata": {},
   "outputs": [],
   "source": [
    "import sys\n",
    "import os\n",
    "from data import Database, ModelResultRepository, ModelResult\n",
    "from benchmarks.mmul import MMULDataLoader, MMULBenchmark\n",
    "from benchmarks import BenchmarkFactory, BenchmarkRunner\n",
    "from models import ModelFactory, OpenAIModel, TestModel\n"
   ]
  },
  {
   "cell_type": "code",
   "execution_count": 2,
   "metadata": {},
   "outputs": [
    {
     "name": "stderr",
     "output_type": "stream",
     "text": [
      "Python-dotenv could not parse statement starting at line 2\n"
     ]
    },
    {
     "name": "stdout",
     "output_type": "stream",
     "text": [
      "Data file already exists. Skipping download.\n",
      "Data directory already exists. Skipping extraction.\n",
      "Combined data shape: (13985, 7)\n",
      "Columns: ['question', 'A', 'B', 'C', 'D', 'answer', 'category']\n",
      "\n",
      "Results for test:\n",
      "  mmul: 0.25\n"
     ]
    }
   ],
   "source": [
    "db = Database()\n",
    "db.create_all_tables()\n",
    "model_result_repo = ModelResultRepository(db)\n",
    "\n",
    "# Inicjalizacja fabryk\n",
    "model_factory = ModelFactory()\n",
    "benchmark_factory = BenchmarkFactory()\n",
    "\n",
    "# Rejestracja modeli\n",
    "# model_factory.register_model(\"gpt3\", OpenAIModel, \"gpt-3.5-turbo\")\n",
    "model_factory.register_model(\"test\", TestModel)\n",
    "\n",
    "# Rejestracja benchmarków\n",
    "benchmark_factory.register_benchmark(\"MMUL\", MMULBenchmark, model_result_repo)\n",
    "\n",
    "# Utworzenie i uruchomienie runnera\n",
    "runner = BenchmarkRunner(model_factory, benchmark_factory)\n",
    "runner.run_benchmarks()"
   ]
  }
 ],
 "metadata": {
  "kernelspec": {
   "display_name": "Python 3",
   "language": "python",
   "name": "python3"
  },
  "language_info": {
   "codemirror_mode": {
    "name": "ipython",
    "version": 3
   },
   "file_extension": ".py",
   "mimetype": "text/x-python",
   "name": "python",
   "nbconvert_exporter": "python",
   "pygments_lexer": "ipython3",
   "version": "3.12.5"
  }
 },
 "nbformat": 4,
 "nbformat_minor": 2
}
