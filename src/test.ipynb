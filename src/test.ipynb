{
 "cells": [
  {
   "cell_type": "code",
   "execution_count": 1,
   "metadata": {},
   "outputs": [
    {
     "name": "stdout",
     "output_type": "stream",
     "text": [
      "Test session id: 20241029123135\n"
     ]
    }
   ],
   "source": [
    "# Generate test session id based on current time year, month, day, hour, minute, second yyyymmddhhmmss\n",
    "import datetime\n",
    "\n",
    "test_session_id = datetime.datetime.now().strftime(\"%Y%m%d%H%M%S\")\n",
    "\n",
    "print(f\"Test session id: {test_session_id}\")\n"
   ]
  },
  {
   "cell_type": "code",
   "execution_count": 2,
   "metadata": {},
   "outputs": [
    {
     "name": "stdout",
     "output_type": "stream",
     "text": [
      "Skipping model claude-3-5-sonnet-20240620 as it's not in the model_name_list\n",
      "Skipping model claude-3-opus-20240229 as it's not in the model_name_list\n",
      "Skipping model claude-3-sonnet-20240229 as it's not in the model_name_list\n",
      "Skipping model claude-3-haiku-20240307 as it's not in the model_name_list\n",
      "Skipping model gpt-4o as it's not in the model_name_list\n",
      "Skipping model gpt-4-turbo as it's not in the model_name_list\n",
      "Skipping model gpt-4 as it's not in the model_name_list\n",
      "Skipping model gpt-3.5-turbo-0125 as it's not in the model_name_list\n",
      "Loaded Models:\n",
      "==============\n",
      "- gpt-4o-mini\n",
      "\n",
      "Total loaded models: 1\n",
      "\n",
      "Filtered by model list: gpt-4o-mini\n",
      "Data already exists for benchmark MMUL-0Shot and session 20241027212309\n",
      "Estimation already exists for benchmark MMUL-0Shot, session 20241027212309, and model gpt-4o-mini\n",
      "Data already exists for benchmark MMUL-5Shot and session 20241027212309\n",
      "Estimation already exists for benchmark MMUL-5Shot, session 20241027212309, and model gpt-4o-mini\n",
      "Benchmark Summary\n",
      "=================\n",
      "     Benchmark              Model                Queries            Avg Score       Total Execution Time      Est Tokens           Act Tokens            Est Cost             Act Cost      \n",
      "     MMUL-0Shot          gpt-4o-mini              570                  None                 NaN                  64722                NaN                 0.0100                NaN         \n",
      "     MMUL-5Shot          gpt-4o-mini              570                  None                 NaN                 342723                NaN                 0.0517                NaN         \n",
      "\n",
      "\n"
     ]
    }
   ],
   "source": [
    "from data import Database\n",
    "from data.repositories import (\n",
    "    PreparedQuestionRepository,\n",
    "    ModelResultRepository,\n",
    "    MMULQuestionRepository,\n",
    "    BatchJobRepository\n",
    ")\n",
    "from benchmarks import BenchmarkRunner, BenchmarkRegistry\n",
    "from benchmarks.benchmark_summary import BenchmarkSummary\n",
    "from ai_models import ModelRegistry, BatchProgressManager\n",
    "\n",
    "# Initialize database\n",
    "db = Database()\n",
    "db.create_all_tables()\n",
    "mmul_question_repository = MMULQuestionRepository(db)\n",
    "prepared_question_repo = PreparedQuestionRepository(db)\n",
    "model_result_repo = ModelResultRepository(db)\n",
    "batch_job_repo = BatchJobRepository(db)\n",
    "benchmark_summary = BenchmarkSummary(db)\n",
    "batch_manager = BatchProgressManager(batch_job_repo)\n",
    "\n",
    "test_session_id = 20241027212309\n",
    "# model_name_list = [] # all models\n",
    "model_name_list = [\"gpt-4o-mini\"] # only gpt-4o-mini\n",
    "# model_name_list = [\"gpt-4o-mini\", \"claude-3-haiku-20240307\"]\n",
    "\n",
    "# Register models\n",
    "model_registry = ModelRegistry(model_name_list)\n",
    "model_registry.register_production_models()\n",
    "model_registry.print_loaded_models()\n",
    "\n",
    "# Register benchmarks\n",
    "benchmark_registry = BenchmarkRegistry(\n",
    "    mmul_question_repository,\n",
    "    prepared_question_repo, \n",
    "    model_result_repo, \n",
    "    batch_job_repo,\n",
    "    test_session_id = test_session_id, \n",
    "    max_tests_per_benchmark = 10)\n",
    "\n",
    "benchmark_registry.register_mmul_benchmarks()\n",
    "\n",
    "# Create and run the benchmark runner\n",
    "runner = BenchmarkRunner(model_registry, benchmark_registry)\n",
    "runner.estimate_model_results()\n",
    "\n",
    "# benchmark_summary.print_full_summary(test_session_id)\n",
    "benchmark_summary.print_benchmark_summary(test_session_id)\n"
   ]
  },
  {
   "cell_type": "code",
   "execution_count": 3,
   "metadata": {},
   "outputs": [
    {
     "name": "stdout",
     "output_type": "stream",
     "text": [
      "Data already exists for benchmark MMUL-0Shot and session 20241027212309\n",
      "Created 4 batches\n",
      "Error adding BatchJob: (sqlite3.ProgrammingError) Error binding parameter 4: type 'list' is not supported\n",
      "[SQL: INSERT INTO batch_jobs (test_session_id, benchmark_name, model_name, batch_id, status, created_at, updated_at) VALUES (?, ?, ?, ?, ?, ?, ?)]\n",
      "[parameters: (20241027212309, 'MMUL-0Shot', 'gpt-4o-mini', ['batch_6720c79c632881908c1a1de4237d0659', 'batch_6720c79db52881909cef2a24a002fe87', 'batch_6720c79ed5f08190b47ec18998afeebc', 'batch_6720c79fd64c81909f73290d86de3319'], 'pending', '2024-10-29 11:31:43.953196', '2024-10-29 11:31:43.953196')]\n",
      "(Background on this error at: https://sqlalche.me/e/20/f405)\n",
      "Batch - Benchmark[MMUL-0Shot], Session[20241027212309], model[gpt-4o-mini] created with ID: ['batch_6720c79c632881908c1a1de4237d0659', 'batch_6720c79db52881909cef2a24a002fe87', 'batch_6720c79ed5f08190b47ec18998afeebc', 'batch_6720c79fd64c81909f73290d86de3319']\n",
      "Data already exists for benchmark MMUL-5Shot and session 20241027212309\n",
      "Created 20 batches\n",
      "Error adding BatchJob: (sqlite3.ProgrammingError) Error binding parameter 4: type 'list' is not supported\n",
      "[SQL: INSERT INTO batch_jobs (test_session_id, benchmark_name, model_name, batch_id, status, created_at, updated_at) VALUES (?, ?, ?, ?, ?, ?, ?)]\n",
      "[parameters: (20241027212309, 'MMUL-5Shot', 'gpt-4o-mini', ['batch_6720c7a19b7c8190950aa027e8d2f2b7', 'batch_6720c7a2c3408190989de8d0be602364', 'batch_6720c7a3bf088190a0087cbc307b6e6d', 'batch_6720c7a4d0648190 ... (540 characters truncated) ... 88819090c13384fcc4852c', 'batch_6720c7b6c2f48190bbddd321d94314eb', 'batch_6720c7b7b2ec819097825c533ace7ba6', 'batch_6720c7b8b2f08190a870c9baf0375153'], 'pending', '2024-10-29 11:32:08.806299', '2024-10-29 11:32:08.806299')]\n",
      "(Background on this error at: https://sqlalche.me/e/20/f405)\n",
      "Batch - Benchmark[MMUL-5Shot], Session[20241027212309], model[gpt-4o-mini] created with ID: ['batch_6720c7a19b7c8190950aa027e8d2f2b7', 'batch_6720c7a2c3408190989de8d0be602364', 'batch_6720c7a3bf088190a0087cbc307b6e6d', 'batch_6720c7a4d0648190bd0004fe08dc3970', 'batch_6720c7a5e49c81908e4d005dbce50ac7', 'batch_6720c7a728108190aba9b0943cd01c55', 'batch_6720c7a874f88190876d83e8e9e40cb2', 'batch_6720c7a99e508190ae7a8d5795c841fd', 'batch_6720c7aa9c00819094686576d6f5015f', 'batch_6720c7aba2b8819083319bad93bd093a', 'batch_6720c7acad6c81908c15b50372d85e14', 'batch_6720c7adcfa48190b6a8c255cc307eae', 'batch_6720c7b134308190b9857c62b11ec1b5', 'batch_6720c7b256a08190bcbedaaec8da5206', 'batch_6720c7b390ec8190a739a4537dffcf56', 'batch_6720c7b4a960819093d3da7be3cb9c72', 'batch_6720c7b5b088819090c13384fcc4852c', 'batch_6720c7b6c2f48190bbddd321d94314eb', 'batch_6720c7b7b2ec819097825c533ace7ba6', 'batch_6720c7b8b2f08190a870c9baf0375153']\n"
     ]
    }
   ],
   "source": [
    "runner.run_benchmarks(in_batch=True)"
   ]
  },
  {
   "cell_type": "code",
   "execution_count": 7,
   "metadata": {},
   "outputs": [],
   "source": [
    "batch_manager.show_batch_progress_from_db(test_session_id)"
   ]
  },
  {
   "cell_type": "code",
   "execution_count": 5,
   "metadata": {},
   "outputs": [
    {
     "name": "stdout",
     "output_type": "stream",
     "text": [
      "Data already exists for benchmark MMUL-0Shot and session 20241027212309\n",
      "Data already exists for benchmark MMUL-5Shot and session 20241027212309\n",
      "\n",
      "\n",
      "Benchmark Summary\n",
      "=================\n",
      "     Benchmark              Model                Queries            Avg Score       Total Execution Time      Est Tokens           Act Tokens            Est Cost             Act Cost      \n",
      "     MMUL-0Shot          gpt-4o-mini              570                  None                 NaN                  64722                NaN                 0.0100                NaN         \n",
      "     MMUL-5Shot          gpt-4o-mini              570                  None                 NaN                 342723                NaN                 0.0517                NaN         \n",
      "\n",
      "\n"
     ]
    }
   ],
   "source": [
    "runner.check_and_process_batch_results()\n",
    "# benchmark_summary.print_full_summary(test_session_id)\n",
    "print(\"\\n\")\n",
    "benchmark_summary.print_benchmark_summary(test_session_id)"
   ]
  }
 ],
 "metadata": {
  "kernelspec": {
   "display_name": "Python 3",
   "language": "python",
   "name": "python3"
  },
  "language_info": {
   "codemirror_mode": {
    "name": "ipython",
    "version": 3
   },
   "file_extension": ".py",
   "mimetype": "text/x-python",
   "name": "python",
   "nbconvert_exporter": "python",
   "pygments_lexer": "ipython3",
   "version": "3.12.5"
  }
 },
 "nbformat": 4,
 "nbformat_minor": 2
}
