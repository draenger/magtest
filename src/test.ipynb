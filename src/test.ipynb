{
 "cells": [
  {
   "cell_type": "code",
   "execution_count": 1,
   "metadata": {},
   "outputs": [
    {
     "name": "stdout",
     "output_type": "stream",
     "text": [
      "Running benchmarks...\n",
      "\n",
      "========================================\n",
      "Running mmul-0shot benchmark for all models...\n",
      "Error running mmul-0shot for model test: 'Database' object has no attribute 'get_by_data_type'\n",
      "\n",
      "Finished mmul-0shot benchmark for all models\n",
      "\n",
      "========================================\n",
      "Running mmul-5shot benchmark for all models...\n",
      "Error running mmul-5shot for model test: 'Database' object has no attribute 'get_by_data_type'\n",
      "\n",
      "Finished mmul-5shot benchmark for all models\n",
      "========================================\n",
      "\n",
      "All benchmarks completed.\n"
     ]
    },
    {
     "data": {
      "text/plain": [
       "{'mmul-0shot': {}, 'mmul-5shot': {}}"
      ]
     },
     "execution_count": 1,
     "metadata": {},
     "output_type": "execute_result"
    }
   ],
   "source": [
    "import sys\n",
    "import os\n",
    "from data import Database\n",
    "from data.repositories import PreparedQuestionRepository, ModelResultRepository\n",
    "from benchmarks.mmul import MMULDataProvider, MMULBenchmark, MMULTestPreparation\n",
    "from benchmarks import BenchmarkFactory, BenchmarkRunner\n",
    "from models import ModelFactory, TestModel\n",
    "\n",
    "# Settings\n",
    "max_tests_per_benchmark = 1\n",
    "num_few_shot = 5\n",
    "\n",
    "# Initialize database\n",
    "db = Database()\n",
    "db.create_all_tables()\n",
    "prepared_question_repo = PreparedQuestionRepository(db)\n",
    "model_result_repo = ModelResultRepository(db)\n",
    "\n",
    "# Initialize factories\n",
    "model_factory = ModelFactory()\n",
    "benchmark_factory = BenchmarkFactory()\n",
    "\n",
    "# Register models\n",
    "# model_factory.register_model(\"gpt-4o\", OpenAIModel, \"gpt-4o\", rpm_limit=500)\n",
    "# model_factory.register_model(\"gpt-4o-mini\", OpenAIModel, \"gpt-4o-mini\", rpm_limit=500)\n",
    "# model_factory.register_model(\"gpt-4-turbo\", OpenAIModel, \"gpt-4-turbo\", rpm_limit=500)\n",
    "# model_factory.register_model(\"gpt-4\", OpenAIModel, \"gpt-4\", rpm_limit=500)\n",
    "# model_factory.register_model(\"gpt-3.5-turbo\", OpenAIModel, \"gpt-3.5-turbo\", rpm_limit=500)\n",
    "model_factory.register_model(\"test\", TestModel)\n",
    "\n",
    "# Initialize data provider and test preparation\n",
    "mmul_data_provider = MMULDataProvider(db)\n",
    "mmul_test_preparation = MMULTestPreparation(mmul_data_provider, prepared_question_repo)\n",
    "\n",
    "# Register benchmarks\n",
    "benchmark_factory.register_benchmark(\n",
    "    \"MMUL-0Shot\",\n",
    "    MMULBenchmark,\n",
    "    model_result_repo=model_result_repo,\n",
    "    test_preparation=mmul_test_preparation\n",
    ")\n",
    "\n",
    "benchmark_factory.register_benchmark(\n",
    "    \"MMUL-5Shot\",\n",
    "    MMULBenchmark,\n",
    "    model_result_repo=model_result_repo,\n",
    "    test_preparation=mmul_test_preparation\n",
    ")\n",
    "\n",
    "# Create and run the benchmark runner\n",
    "runner = BenchmarkRunner(model_factory, benchmark_factory)\n",
    "runner.run_benchmarks(max_tests_per_benchmark=max_tests_per_benchmark, num_few_shot=num_few_shot)\n"
   ]
  }
 ],
 "metadata": {
  "kernelspec": {
   "display_name": "Python 3",
   "language": "python",
   "name": "python3"
  },
  "language_info": {
   "codemirror_mode": {
    "name": "ipython",
    "version": 3
   },
   "file_extension": ".py",
   "mimetype": "text/x-python",
   "name": "python",
   "nbconvert_exporter": "python",
   "pygments_lexer": "ipython3",
   "version": "3.12.5"
  }
 },
 "nbformat": 4,
 "nbformat_minor": 2
}
