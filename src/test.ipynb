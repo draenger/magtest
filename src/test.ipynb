{
 "cells": [
  {
   "cell_type": "code",
   "execution_count": 1,
   "metadata": {},
   "outputs": [
    {
     "name": "stdout",
     "output_type": "stream",
     "text": [
      "Filtered test data shape: (570, 9)\n",
      "Preparing 570 tests for benchmark MMUL-0Shot, session 81020241819, 0-shot\n",
      "Finished preparing 570 tests for benchmark MMUL-0Shot\n",
      "Filtered test data shape: (570, 9)\n",
      "Preparing 570 tests for benchmark MMUL-5Shot, session 81020241819, 5-shot\n",
      "Finished preparing 570 tests for benchmark MMUL-5Shot\n",
      "     Benchmark                    Model                     Queries            Avg Score       Total Execution Time      Est Tokens           Act Tokens            Est Cost             Act Cost      \n",
      "     MMUL-0Shot      test_claude-3-5-sonnet-20240620         570                  None                 None                 65660                NaN                 0.2038                NaN         \n",
      "     MMUL-0Shot         test_claude-3-haiku-20240307         570                  None                 None                 65660                NaN                 0.0170                NaN         \n",
      "     MMUL-0Shot          test_claude-3-opus-20240229         570                  None                 None                 65660                NaN                 1.0191                NaN         \n",
      "     MMUL-0Shot        test_claude-3-sonnet-20240229         570                  None                 None                 65660                NaN                 0.2038                NaN         \n",
      "     MMUL-0Shot              test_gpt-3.5-turbo-0125         570                  None                 None                 65660                NaN                 0.0334                NaN         \n",
      "     MMUL-0Shot                           test_gpt-4         570                  None                 None                 65660                NaN                 1.9869                NaN         \n",
      "     MMUL-0Shot                     test_gpt-4-turbo         570                  None                 None                 65660                NaN                 0.6680                NaN         \n",
      "     MMUL-0Shot                          test_gpt-4o         570                  None                 None                 65660                NaN                 0.3340                NaN         \n",
      "     MMUL-0Shot                     test_gpt-4o-mini         570                  None                 None                 65660                NaN                 0.0101                NaN         \n",
      "     MMUL-5Shot      test_claude-3-5-sonnet-20240620         570                  None                 None                376699                NaN                 1.1369                NaN         \n",
      "     MMUL-5Shot         test_claude-3-haiku-20240307         570                  None                 None                376699                NaN                 0.0947                NaN         \n",
      "     MMUL-5Shot          test_claude-3-opus-20240229         570                  None                 None                376699                NaN                 5.6847                NaN         \n",
      "     MMUL-5Shot        test_claude-3-sonnet-20240229         570                  None                 None                376699                NaN                 1.1369                NaN         \n",
      "     MMUL-5Shot              test_gpt-3.5-turbo-0125         570                  None                 None                376699                NaN                 0.1889                NaN         \n",
      "     MMUL-5Shot                           test_gpt-4         570                  None                 None                376699                NaN                11.3181                NaN         \n",
      "     MMUL-5Shot                     test_gpt-4-turbo         570                  None                 None                376699                NaN                 3.7784                NaN         \n",
      "     MMUL-5Shot                          test_gpt-4o         570                  None                 None                376699                NaN                 1.8892                NaN         \n",
      "     MMUL-5Shot                     test_gpt-4o-mini         570                  None                 None                376699                NaN                 0.0568                NaN         \n"
     ]
    }
   ],
   "source": [
    "from data import Database\n",
    "from data.repositories import PreparedQuestionRepository, ModelResultRepository, MMULQuestionRepository, BatchJobRepository\n",
    "from benchmarks import BenchmarkRunner, BenchmarkRegistry, BenchmarkSummary\n",
    "from ai_models import ModelRegistry\n",
    "\n",
    "# Initialize database\n",
    "db = Database()\n",
    "db.create_all_tables()\n",
    "mmul_question_repository = MMULQuestionRepository(db)\n",
    "prepared_question_repo = PreparedQuestionRepository(db)\n",
    "model_result_repo = ModelResultRepository(db)\n",
    "batch_job_repo = BatchJobRepository(db)\n",
    "benchmark_summary_repo = BenchmarkSummary(db)\n",
    "\n",
    "test_session_id = 81020241819\n",
    "\n",
    "# Register models\n",
    "model_registry = ModelRegistry()\n",
    "model_registry.register_test_models()\n",
    "\n",
    "# Register benchmarks\n",
    "benchmark_registry = BenchmarkRegistry(\n",
    "    mmul_question_repository,\n",
    "    prepared_question_repo, \n",
    "    model_result_repo, \n",
    "    batch_job_repo,\n",
    "    test_session_id = test_session_id, \n",
    "    max_tests_per_benchmark = 10)\n",
    "\n",
    "benchmark_registry.register_mmul_benchmarks()\n",
    "\n",
    "# Create and run the benchmark runner\n",
    "runner = BenchmarkRunner(model_registry, benchmark_registry)\n",
    "runner.estimate_model_results()\n",
    "\n",
    "# summary = benchmark_summary_repo.get_detailed_summary(test_session_id)\n",
    "# print(summary.to_string(index=False, justify='center', col_space=20, float_format=lambda x: f'{x:.4f}'))\n",
    "# print(\"\\n\\n\\n\")\n",
    "summary = benchmark_summary_repo.get_benchmark_summary(test_session_id)\n",
    "print(summary.to_string(index=False, justify='center', col_space=20, float_format=lambda x: f'{x:.4f}'))"
   ]
  },
  {
   "cell_type": "code",
   "execution_count": 2,
   "metadata": {},
   "outputs": [
    {
     "name": "stdout",
     "output_type": "stream",
     "text": [
      "Data already exists for benchmark MMUL-0Shot and session 81020241819\n",
      "Batch - Benchmark[MMUL-0Shot], Session[81020241819], model[test_gpt-4o] created with ID: test_batch_4874\n",
      "Batch - Benchmark[MMUL-0Shot], Session[81020241819], model[test_gpt-4o-mini] created with ID: test_batch_1911\n",
      "Batch - Benchmark[MMUL-0Shot], Session[81020241819], model[test_gpt-4-turbo] created with ID: test_batch_1108\n",
      "Batch - Benchmark[MMUL-0Shot], Session[81020241819], model[test_gpt-4] created with ID: test_batch_2803\n",
      "Batch - Benchmark[MMUL-0Shot], Session[81020241819], model[test_gpt-3.5-turbo-0125] created with ID: test_batch_9768\n",
      "Batch - Benchmark[MMUL-0Shot], Session[81020241819], model[test_claude-3-5-sonnet-20240620] created with ID: test_batch_1208\n",
      "Batch - Benchmark[MMUL-0Shot], Session[81020241819], model[test_claude-3-opus-20240229] created with ID: test_batch_5896\n",
      "Batch - Benchmark[MMUL-0Shot], Session[81020241819], model[test_claude-3-sonnet-20240229] created with ID: test_batch_2599\n",
      "Batch - Benchmark[MMUL-0Shot], Session[81020241819], model[test_claude-3-haiku-20240307] created with ID: test_batch_5780\n",
      "Data already exists for benchmark MMUL-5Shot and session 81020241819\n",
      "Batch - Benchmark[MMUL-5Shot], Session[81020241819], model[test_gpt-4o] created with ID: test_batch_6790\n",
      "Batch - Benchmark[MMUL-5Shot], Session[81020241819], model[test_gpt-4o-mini] created with ID: test_batch_7438\n",
      "Batch - Benchmark[MMUL-5Shot], Session[81020241819], model[test_gpt-4-turbo] created with ID: test_batch_5981\n",
      "Batch - Benchmark[MMUL-5Shot], Session[81020241819], model[test_gpt-4] created with ID: test_batch_5774\n",
      "Batch - Benchmark[MMUL-5Shot], Session[81020241819], model[test_gpt-3.5-turbo-0125] created with ID: test_batch_9842\n",
      "Batch - Benchmark[MMUL-5Shot], Session[81020241819], model[test_claude-3-5-sonnet-20240620] created with ID: test_batch_5574\n",
      "Batch - Benchmark[MMUL-5Shot], Session[81020241819], model[test_claude-3-opus-20240229] created with ID: test_batch_7075\n",
      "Batch - Benchmark[MMUL-5Shot], Session[81020241819], model[test_claude-3-sonnet-20240229] created with ID: test_batch_2432\n",
      "Batch - Benchmark[MMUL-5Shot], Session[81020241819], model[test_claude-3-haiku-20240307] created with ID: test_batch_5952\n",
      "     Benchmark                    Model                     Queries            Avg Score       Total Execution Time      Est Tokens           Act Tokens            Est Cost             Act Cost      \n",
      "     MMUL-0Shot      test_claude-3-5-sonnet-20240620         570                  None                 None                 65660                NaN                 0.2038                NaN         \n",
      "     MMUL-0Shot         test_claude-3-haiku-20240307         570                  None                 None                 65660                NaN                 0.0170                NaN         \n",
      "     MMUL-0Shot          test_claude-3-opus-20240229         570                  None                 None                 65660                NaN                 1.0191                NaN         \n",
      "     MMUL-0Shot        test_claude-3-sonnet-20240229         570                  None                 None                 65660                NaN                 0.2038                NaN         \n",
      "     MMUL-0Shot              test_gpt-3.5-turbo-0125         570                  None                 None                 65660                NaN                 0.0334                NaN         \n",
      "     MMUL-0Shot                           test_gpt-4         570                  None                 None                 65660                NaN                 1.9869                NaN         \n",
      "     MMUL-0Shot                     test_gpt-4-turbo         570                  None                 None                 65660                NaN                 0.6680                NaN         \n",
      "     MMUL-0Shot                          test_gpt-4o         570                  None                 None                 65660                NaN                 0.3340                NaN         \n",
      "     MMUL-0Shot                     test_gpt-4o-mini         570                  None                 None                 65660                NaN                 0.0101                NaN         \n",
      "     MMUL-5Shot      test_claude-3-5-sonnet-20240620         570                  None                 None                376699                NaN                 1.1369                NaN         \n",
      "     MMUL-5Shot         test_claude-3-haiku-20240307         570                  None                 None                376699                NaN                 0.0947                NaN         \n",
      "     MMUL-5Shot          test_claude-3-opus-20240229         570                  None                 None                376699                NaN                 5.6847                NaN         \n",
      "     MMUL-5Shot        test_claude-3-sonnet-20240229         570                  None                 None                376699                NaN                 1.1369                NaN         \n",
      "     MMUL-5Shot              test_gpt-3.5-turbo-0125         570                  None                 None                376699                NaN                 0.1889                NaN         \n",
      "     MMUL-5Shot                           test_gpt-4         570                  None                 None                376699                NaN                11.3181                NaN         \n",
      "     MMUL-5Shot                     test_gpt-4-turbo         570                  None                 None                376699                NaN                 3.7784                NaN         \n",
      "     MMUL-5Shot                          test_gpt-4o         570                  None                 None                376699                NaN                 1.8892                NaN         \n",
      "     MMUL-5Shot                     test_gpt-4o-mini         570                  None                 None                376699                NaN                 0.0568                NaN         \n"
     ]
    }
   ],
   "source": [
    "runner.run_benchmarks(in_batch=True)\n",
    "\n",
    "# summary = benchmark_summary_repo.get_detailed_summary(test_session_id)\n",
    "# print(summary.to_string(index=False, justify='center', col_space=20, float_format=lambda x: f'{x:.4f}'))\n",
    "# print(\"\\n\\n\\n\")\n",
    "summary = benchmark_summary_repo.get_benchmark_summary(test_session_id)\n",
    "print(summary.to_string(index=False, justify='center', col_space=20, float_format=lambda x: f'{x:.4f}'))"
   ]
  },
  {
   "cell_type": "code",
   "execution_count": null,
   "metadata": {},
   "outputs": [],
   "source": []
  },
  {
   "cell_type": "code",
   "execution_count": null,
   "metadata": {},
   "outputs": [],
   "source": []
  }
 ],
 "metadata": {
  "kernelspec": {
   "display_name": "Python 3",
   "language": "python",
   "name": "python3"
  },
  "language_info": {
   "codemirror_mode": {
    "name": "ipython",
    "version": 3
   },
   "file_extension": ".py",
   "mimetype": "text/x-python",
   "name": "python",
   "nbconvert_exporter": "python",
   "pygments_lexer": "ipython3",
   "version": "3.12.5"
  }
 },
 "nbformat": 4,
 "nbformat_minor": 2
}
