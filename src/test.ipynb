{
 "cells": [
  {
   "cell_type": "code",
   "execution_count": 4,
   "metadata": {},
   "outputs": [],
   "source": [
    "import sys\n",
    "import os\n",
    "\n",
    "# Dodaj folder nadrzędny (src) do ścieżki systemowej\n",
    "notebook_path = os.path.abspath('')\n",
    "src_path = os.path.dirname(notebook_path)\n",
    "sys.path.append(src_path)\n"
   ]
  },
  {
   "cell_type": "code",
   "execution_count": 20,
   "metadata": {},
   "outputs": [
    {
     "ename": "NameError",
     "evalue": "name 'config' is not defined",
     "output_type": "error",
     "traceback": [
      "\u001b[1;31m---------------------------------------------------------------------------\u001b[0m",
      "\u001b[1;31mNameError\u001b[0m                                 Traceback (most recent call last)",
      "Cell \u001b[1;32mIn[20], line 6\u001b[0m\n\u001b[0;32m      3\u001b[0m \u001b[38;5;28;01mfrom\u001b[39;00m \u001b[38;5;21;01mdata\u001b[39;00m \u001b[38;5;28;01mimport\u001b[39;00m ModelResult\n\u001b[0;32m      5\u001b[0m \u001b[38;5;66;03m# Initialize database and repository\u001b[39;00m\n\u001b[1;32m----> 6\u001b[0m db \u001b[38;5;241m=\u001b[39m \u001b[43mDatabase\u001b[49m\u001b[43m(\u001b[49m\u001b[43m)\u001b[49m\n\u001b[0;32m      7\u001b[0m db\u001b[38;5;241m.\u001b[39mcreate_all_tables()\n\u001b[0;32m      8\u001b[0m model_result_repo \u001b[38;5;241m=\u001b[39m ModelResultRepository(db)\n",
      "File \u001b[1;32md:\\Master\\Repo\\Magtest\\src\\data\\database.py:7\u001b[0m, in \u001b[0;36mDatabase.__init__\u001b[1;34m(self)\u001b[0m\n\u001b[0;32m      6\u001b[0m \u001b[38;5;28;01mdef\u001b[39;00m \u001b[38;5;21m__init__\u001b[39m(\u001b[38;5;28mself\u001b[39m):\n\u001b[1;32m----> 7\u001b[0m     \u001b[38;5;28mself\u001b[39m\u001b[38;5;241m.\u001b[39mengine \u001b[38;5;241m=\u001b[39m create_engine(\u001b[43mconfig\u001b[49m\u001b[38;5;241m.\u001b[39mget_database_url())\n\u001b[0;32m      8\u001b[0m     \u001b[38;5;28mself\u001b[39m\u001b[38;5;241m.\u001b[39mSession \u001b[38;5;241m=\u001b[39m sessionmaker(bind\u001b[38;5;241m=\u001b[39m\u001b[38;5;28mself\u001b[39m\u001b[38;5;241m.\u001b[39mengine)\n",
      "\u001b[1;31mNameError\u001b[0m: name 'config' is not defined"
     ]
    }
   ],
   "source": [
    "from data import Database\n",
    "from data import ModelResultRepository\n",
    "from data import ModelResult\n",
    "\n",
    "# Initialize database and repository\n",
    "db = Database()\n",
    "db.create_all_tables()\n",
    "model_result_repo = ModelResultRepository(db)\n",
    "\n",
    "# Add a new result\n",
    "new_result = ModelResult(model_name='GPT-4', benchmark_name='MMLU', \n",
    "                         query='What is the capital of France?', \n",
    "                         response='Paris', tokens_used=30, \n",
    "                         execution_time=0.1, score=0.95)\n",
    "model_result_repo.add(new_result)\n",
    "\n",
    "# Get all results\n",
    "all_results = model_result_repo.get_all()\n",
    "\n",
    "# Get results for a specific model\n",
    "gpt4_results = model_result_repo.get_by_model_name('GPT-4')\n",
    "\n",
    "# Update a result\n",
    "model_result_repo.update(1, score=0.97)\n",
    "\n",
    "# Delete a result\n",
    "model_result_repo.delete(2)\n"
   ]
  }
 ],
 "metadata": {
  "kernelspec": {
   "display_name": "Python 3",
   "language": "python",
   "name": "python3"
  },
  "language_info": {
   "codemirror_mode": {
    "name": "ipython",
    "version": 3
   },
   "file_extension": ".py",
   "mimetype": "text/x-python",
   "name": "python",
   "nbconvert_exporter": "python",
   "pygments_lexer": "ipython3",
   "version": "3.12.5"
  }
 },
 "nbformat": 4,
 "nbformat_minor": 2
}
