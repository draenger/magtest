{
 "cells": [
  {
   "cell_type": "code",
   "execution_count": 1,
   "metadata": {},
   "outputs": [
    {
     "name": "stdout",
     "output_type": "stream",
     "text": [
      "Test session id: 20241107224505\n"
     ]
    }
   ],
   "source": [
    "# Generate test session id based on current time year, month, day, hour, minute, second yyyymmddhhmmss\n",
    "import datetime\n",
    "test_session_id = datetime.datetime.now().strftime(\"%Y%m%d%H%M%S\")\n",
    "print(f\"Test session id: {test_session_id}\")"
   ]
  },
  {
   "cell_type": "code",
   "execution_count": 2,
   "metadata": {},
   "outputs": [
    {
     "name": "stdout",
     "output_type": "stream",
     "text": [
      "Skipping model claude-3-5-sonnet-20240620 as it's not in the model_name_list\n",
      "Skipping model claude-3-opus-20240229 as it's not in the model_name_list\n",
      "Skipping model claude-3-sonnet-20240229 as it's not in the model_name_list\n",
      "Skipping model claude-3-haiku-20240307 as it's not in the model_name_list\n",
      "Skipping model gpt-4o as it's not in the model_name_list\n",
      "Skipping model gpt-4o-mini as it's not in the model_name_list\n",
      "Skipping model gpt-4-turbo as it's not in the model_name_list\n",
      "Skipping model gpt-4 as it's not in the model_name_list\n",
      "Skipping model gpt-3.5-turbo-0125 as it's not in the model_name_list\n",
      "Skipping model gemini-1.5-flash-001 as it's not in the model_name_list\n",
      "Skipping model gemini-1.5-pro-002 as it's not in the model_name_list\n",
      "Skipping model gemini-1.5-pro-001 as it's not in the model_name_list\n",
      "Skipping model gemini-1.0-pro-002 as it's not in the model_name_list\n",
      "Skipping model gemini-1.0-pro-001 as it's not in the model_name_list\n",
      "Loaded Models:\n",
      "==============\n",
      "- gemini-1.5-flash-002\n",
      "\n",
      "Total loaded models: 1\n",
      "\n",
      "Filtered by model list: gemini-1.5-flash-002\n",
      "Skipping benchmark MMLU-0Shot as it's not in the benchmark_name_list\n",
      "Skipping benchmark MMLU-5Shot as it's not in the benchmark_name_list\n",
      "Skipping benchmark GSM8K-0Shot as it's not in the benchmark_name_list\n",
      "Skipping benchmark GSM8K-4Shot as it's not in the benchmark_name_list\n",
      "Skipping benchmark BBH-0Shot as it's not in the benchmark_name_list\n",
      "Loaded Benchmarks:\n",
      "=================\n",
      "- bbh-3shot\n",
      "\n",
      "Total loaded benchmarks: 1\n",
      "\n",
      "Filtered by benchmark list: BBH-3Shot\n"
     ]
    }
   ],
   "source": [
    "from data import Database\n",
    "from data.repositories import (\n",
    "    PreparedQuestionRepository,\n",
    "    ModelResultRepository,\n",
    "    MMLUQuestionRepository,\n",
    "    BatchJobRepository,\n",
    "    GSM8KQuestionRepository,\n",
    "    BBHQuestionRepository\n",
    ")\n",
    "from benchmarks import BenchmarkRunner, BenchmarkRegistry\n",
    "from benchmarks.benchmark_summary import BenchmarkSummary\n",
    "from ai_models import ModelRegistry, BatchProgressManager\n",
    "\n",
    "# Initialize database\n",
    "db = Database()\n",
    "db.create_all_tables()\n",
    "mmlu_question_repository = MMLUQuestionRepository(db)\n",
    "gsm8k_question_repository = GSM8KQuestionRepository(db)\n",
    "bbh_question_repository = BBHQuestionRepository(db)\n",
    "prepared_question_repo = PreparedQuestionRepository(db)\n",
    "model_result_repo = ModelResultRepository(db)\n",
    "batch_job_repo = BatchJobRepository(db)\n",
    "benchmark_summary = BenchmarkSummary(db)\n",
    "batch_manager = BatchProgressManager(batch_job_repo)\n",
    "\n",
    "test_session_id = 20241107224505\n",
    "# model_name_list = [] # all models\n",
    "# model_name_list = [\"gpt-4o-mini\"] # only gpt-4o-mini\n",
    "# model_name_list = [\"gpt-4o-mini\", \"claude-3-haiku-20240307\"]\n",
    "# model_name_list = [\"gemini-1.5-flash-002\"]  # only gemini-1.5-flash\n",
    "# model_name_list = [\"claude-3-haiku-20240307\"]\n",
    "model_name_list = [\"gemini-1.5-flash-002\"]\n",
    "# model_name_list = [\"gemini-1.5-flash-002\", \"gpt-4o-mini\", \"claude-3-haiku-20240307\"]\n",
    "\n",
    "# Register models\n",
    "model_registry = ModelRegistry(model_name_list)\n",
    "model_registry.register_production_models()\n",
    "model_registry.print_loaded_models()\n",
    "\n",
    "\n",
    "# benchmark_name_list = [\"MMLU-0Shot\", \"MMLU-5Shot\"]\n",
    "# benchmark_name_list = [\"GSM8K-0Shot\"]\n",
    "benchmark_name_list = [\"BBH-3Shot\"]\n",
    "\n",
    "# Register benchmarks\n",
    "benchmark_registry = BenchmarkRegistry(\n",
    "    mmlu_question_repository,\n",
    "    gsm8k_question_repository,\n",
    "    bbh_question_repository,\n",
    "    prepared_question_repo, \n",
    "    model_result_repo, \n",
    "    batch_job_repo,\n",
    "    test_session_id = test_session_id, \n",
    "    max_tests_per_benchmark = 20,\n",
    "    benchmark_name_list = benchmark_name_list)\n",
    "\n",
    "benchmark_registry.register_benchmarks()\n",
    "benchmark_registry.print_loaded_benchmarks()"
   ]
  },
  {
   "cell_type": "code",
   "execution_count": 3,
   "metadata": {},
   "outputs": [
    {
     "name": "stdout",
     "output_type": "stream",
     "text": [
      "Data file already exists. Skipping download.\n",
      "Extracting data...\n"
     ]
    },
    {
     "name": "stdout",
     "output_type": "stream",
     "text": [
      "Extraction completed.\n",
      "Data file already exists. Skipping download.\n",
      "Extracting data...\n",
      "Extraction completed.\n",
      "Preparing 6511 tests for benchmark BBH-3Shot, session 20241107223249, 3-shot\n",
      "Finished preparing 6511 tests for benchmark BBH-3Shot\n",
      "Benchmark Summary\n",
      "=================\n",
      "     Benchmark              Model                Queries            Avg Score       Total Execution Time      Est Tokens           Act Tokens            Est Cost             Act Cost      \n",
      "     BBH-3Shot       gemini-1.5-flash-002         6511                 None                 NaN                11986566               NaN                 5.9099                NaN         \n",
      "\n",
      "\n"
     ]
    }
   ],
   "source": [
    "# Create and run the benchmark runner\n",
    "runner = BenchmarkRunner(model_registry, benchmark_registry)\n",
    "runner.estimate_model_results()\n",
    "\n",
    "# benchmark_summary.print_full_summary(test_session_id)\n",
    "benchmark_summary.print_benchmark_summary(test_session_id)"
   ]
  },
  {
   "cell_type": "code",
   "execution_count": 4,
   "metadata": {},
   "outputs": [],
   "source": [
    "# runner.run_benchmarks(in_batch=True)"
   ]
  },
  {
   "cell_type": "code",
   "execution_count": 5,
   "metadata": {},
   "outputs": [],
   "source": [
    "batch_manager.show_batch_progress_from_db(test_session_id)"
   ]
  },
  {
   "cell_type": "code",
   "execution_count": 6,
   "metadata": {},
   "outputs": [
    {
     "name": "stdout",
     "output_type": "stream",
     "text": [
      "Data already exists for benchmark BBH-3Shot and session 20241107223249\n",
      "\n",
      "\n",
      "Benchmark Summary\n",
      "=================\n",
      "     Benchmark              Model                Queries            Avg Score       Total Execution Time      Est Tokens           Act Tokens            Est Cost             Act Cost      \n",
      "     BBH-3Shot       gemini-1.5-flash-002         6511                 None                 NaN                11986566               NaN                 5.9099                NaN         \n",
      "\n",
      "\n"
     ]
    }
   ],
   "source": [
    "runner.check_and_process_batch_results()\n",
    "# benchmark_summary.print_full_summary(test_session_id)\n",
    "print(\"\\n\")\n",
    "benchmark_summary.print_benchmark_summary(test_session_id)"
   ]
  }
 ],
 "metadata": {
  "kernelspec": {
   "display_name": "Python 3",
   "language": "python",
   "name": "python3"
  },
  "language_info": {
   "codemirror_mode": {
    "name": "ipython",
    "version": 3
   },
   "file_extension": ".py",
   "mimetype": "text/x-python",
   "name": "python",
   "nbconvert_exporter": "python",
   "pygments_lexer": "ipython3",
   "version": "3.12.5"
  }
 },
 "nbformat": 4,
 "nbformat_minor": 2
}
